{
 "cells": [
  {
   "cell_type": "markdown",
   "metadata": {},
   "source": [
    "# Solve for casing current in a halfspace"
   ]
  },
  {
   "cell_type": "markdown",
   "metadata": {},
   "source": [
    "The method of moments can be used to model the effect of conductive casings in electromagnetic surveys. This approach replaces the casing with a series of current sources. To make this replacement, we must find the current in the casing. The problem can be formulated as a linear system of equations $AJ = b$, where $A$ is a matrix that describes casing interactions, $J$ is the vector of current densities for each casing segment that we want to solve for, and $b$ is a vector of values of the electric field induced by our survey's source at each casing segment."
   ]
  },
  {
   "cell_type": "code",
   "execution_count": 1,
   "metadata": {},
   "outputs": [],
   "source": [
    "#%matplotlib widget\n",
    "import numpy as np\n",
    "import matplotlib.pyplot as plt\n",
    "\n",
    "# add parent directory to path\n",
    "import os, sys\n",
    "module_path = os.path.abspath(os.path.join('..'))\n",
    "if module_path not in sys.path:\n",
    "    sys.path.append(module_path)\n",
    "\n",
    "import halfspace as hs"
   ]
  },
  {
   "cell_type": "markdown",
   "metadata": {},
   "source": [
    "Let's define some problem-specific parameters"
   ]
  },
  {
   "cell_type": "code",
   "execution_count": 2,
   "metadata": {},
   "outputs": [],
   "source": [
    "frequency = 1\n",
    "background_conductivity = 0.18\n",
    "casing_conductivity = 1.0e7\n",
    "outer_radius=0.1095\n",
    "inner_radius=0.1095-0.0134\n",
    "casing_length=1365\n",
    "num_segments=280"
   ]
  },
  {
   "cell_type": "code",
   "execution_count": 3,
   "metadata": {},
   "outputs": [
    {
     "name": "stdout",
     "output_type": "stream",
     "text": [
      "CPU times: user 10.5 s, sys: 39.3 ms, total: 10.5 s\n",
      "Wall time: 10.6 s\n"
     ]
    }
   ],
   "source": [
    "%%time\n",
    "A = hs.form_A(\n",
    "    frequency=frequency,\n",
    "    background_conductivity=background_conductivity,\n",
    "    casing_conductivity=casing_conductivity,\n",
    "    outer_radius=outer_radius,\n",
    "    inner_radius=inner_radius,\n",
    "    casing_length=casing_length,\n",
    "    num_segments=num_segments)\n"
   ]
  },
  {
   "cell_type": "markdown",
   "metadata": {},
   "source": [
    "The matrix $A$ is num_segments by num_segments"
   ]
  },
  {
   "cell_type": "code",
   "execution_count": 4,
   "metadata": {},
   "outputs": [
    {
     "data": {
      "text/plain": [
       "(280, 280)"
      ]
     },
     "execution_count": 4,
     "metadata": {},
     "output_type": "execute_result"
    }
   ],
   "source": [
    "A.shape"
   ]
  },
  {
   "cell_type": "markdown",
   "metadata": {},
   "source": [
    "Is A Hermitian? If all casing elements are of equal length, then it should be! Let's use a dot product test to check."
   ]
  },
  {
   "cell_type": "code",
   "execution_count": 5,
   "metadata": {},
   "outputs": [
    {
     "data": {
      "text/plain": [
       "(2.168404344971009e-18-1.1058862159352145e-17j)"
      ]
     },
     "execution_count": 5,
     "metadata": {},
     "output_type": "execute_result"
    }
   ],
   "source": [
    "u = np.random.random(len(A)) + 1j*np.random.random(len(A))\n",
    "v = np.random.rand(len(A)) + 1j*np.random.random(len(A))\n",
    "np.matmul(np.matmul(u,A),v)-np.matmul(v,np.matmul(A,u))"
   ]
  },
  {
   "cell_type": "markdown",
   "metadata": {},
   "source": [
    "Close enough."
   ]
  },
  {
   "cell_type": "markdown",
   "metadata": {},
   "source": [
    "Now, define a wire path for the source, from (0,0) to (2000,0)"
   ]
  },
  {
   "cell_type": "code",
   "execution_count": 6,
   "metadata": {},
   "outputs": [],
   "source": [
    "wire_length = 2000\n",
    "wire_segment_length = 10\n",
    "num_wire_segments = int(np.ceil(wire_length/wire_segment_length))\n",
    "wire_path_x = np.linspace(0,wire_length,num_wire_segments+1)\n",
    "wire_path_y = np.zeros(num_wire_segments+1)"
   ]
  },
  {
   "cell_type": "markdown",
   "metadata": {},
   "source": [
    "Solve for Ez at the casing due to the wire"
   ]
  },
  {
   "cell_type": "code",
   "execution_count": 7,
   "metadata": {},
   "outputs": [],
   "source": [
    "b = hs.form_b(\n",
    "    wire_path_x,\n",
    "    wire_path_y,\n",
    "    wire_current = 1,\n",
    "    frequency=frequency,\n",
    "    background_conductivity=background_conductivity,\n",
    "    casing_length=casing_length,\n",
    "    num_segments=num_segments)"
   ]
  },
  {
   "cell_type": "markdown",
   "metadata": {},
   "source": [
    "Solve for the current densities"
   ]
  },
  {
   "cell_type": "code",
   "execution_count": 8,
   "metadata": {},
   "outputs": [
    {
     "name": "stdout",
     "output_type": "stream",
     "text": [
      "CPU times: user 27.3 ms, sys: 2.88 ms, total: 30.2 ms\n",
      "Wall time: 8.72 ms\n"
     ]
    }
   ],
   "source": [
    "%%time\n",
    "J = np.linalg.solve(A,b)"
   ]
  },
  {
   "cell_type": "markdown",
   "metadata": {},
   "source": [
    "Each element of j is the current density of one casing segment."
   ]
  },
  {
   "cell_type": "code",
   "execution_count": 9,
   "metadata": {},
   "outputs": [
    {
     "data": {
      "text/plain": [
       "(280,)"
      ]
     },
     "execution_count": 9,
     "metadata": {},
     "output_type": "execute_result"
    }
   ],
   "source": [
    "J.shape"
   ]
  },
  {
   "cell_type": "markdown",
   "metadata": {},
   "source": [
    "Since we assume current density to be constant in each segment, current in each segment is simply current density times cross-sectional area."
   ]
  },
  {
   "cell_type": "code",
   "execution_count": 10,
   "metadata": {},
   "outputs": [],
   "source": [
    "casing_area = np.pi*(outer_radius**2-inner_radius**2)\n",
    "I = J*casing_area"
   ]
  },
  {
   "cell_type": "markdown",
   "metadata": {},
   "source": [
    "Plot the current in the casing as a function of depth"
   ]
  },
  {
   "cell_type": "code",
   "execution_count": 11,
   "metadata": {},
   "outputs": [
    {
     "data": {
      "image/png": "[encoded data removed]",
      "text/plain": [
       "<Figure size 648x432 with 1 Axes>"
      ]
     },
     "metadata": {
      "needs_background": "light"
     },
     "output_type": "display_data"
    }
   ],
   "source": [
    "dz = casing_length/num_segments\n",
    "zs = np.linspace(dz/2,casing_length-dz/2,num_segments)\n",
    "\n",
    "real_color = 'b'\n",
    "imag_color = 'r'\n",
    "font_size = 18\n",
    "\n",
    "fig = plt.figure(figsize=(9,6))\n",
    "ax = plt.subplot()\n",
    "ax.plot(zs,np.real(I),color=real_color)\n",
    "ax.plot(zs,np.imag(I),color=imag_color)\n",
    "ax.figure.legend(['real','imaginary'],fontsize=font_size,loc=(0.21,0.72))\n",
    "\n",
    "ax.set_xlabel('Depth, m',fontsize=font_size)\n",
    "ax.set_ylabel('Current, A',fontsize=font_size)\n",
    "ax.tick_params(axis='both', which='major', labelsize=font_size)\n",
    "plt.tight_layout()\n",
    "\n",
    "plt.show()"
   ]
  },
  {
   "cell_type": "code",
   "execution_count": null,
   "metadata": {},
   "outputs": [],
   "source": []
  }
 ],
 "metadata": {
  "kernelspec": {
   "display_name": "em",
   "language": "python",
   "name": "em"
  },
  "language_info": {
   "codemirror_mode": {
    "name": "ipython",
    "version": 3
   },
   "file_extension": ".py",
   "mimetype": "text/x-python",
   "name": "python",
   "nbconvert_exporter": "python",
   "pygments_lexer": "ipython3",
   "version": "3.7.5"
  }
 },
 "nbformat": 4,
 "nbformat_minor": 4
}
